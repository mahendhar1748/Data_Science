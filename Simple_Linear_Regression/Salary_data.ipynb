{
 "cells": [
  {
   "cell_type": "code",
   "execution_count": 1,
   "id": "33fa85d4",
   "metadata": {},
   "outputs": [
    {
     "name": "stderr",
     "output_type": "stream",
     "text": [
      "C:\\Users\\mahendhar Baira\\anaconda3\\Lib\\site-packages\\pandas\\core\\arrays\\masked.py:60: UserWarning: Pandas requires version '1.3.6' or newer of 'bottleneck' (version '1.3.5' currently installed).\n",
      "  from pandas.core import (\n"
     ]
    }
   ],
   "source": [
    "import numpy as np\n",
    "import pandas as pd\n",
    "df=pd.read_csv(\"Salary_Data.csv\")"
   ]
  },
  {
   "cell_type": "code",
   "execution_count": 2,
   "id": "131b40ce",
   "metadata": {},
   "outputs": [
    {
     "data": {
      "text/html": [
       "<div>\n",
       "<style scoped>\n",
       "    .dataframe tbody tr th:only-of-type {\n",
       "        vertical-align: middle;\n",
       "    }\n",
       "\n",
       "    .dataframe tbody tr th {\n",
       "        vertical-align: top;\n",
       "    }\n",
       "\n",
       "    .dataframe thead th {\n",
       "        text-align: right;\n",
       "    }\n",
       "</style>\n",
       "<table border=\"1\" class=\"dataframe\">\n",
       "  <thead>\n",
       "    <tr style=\"text-align: right;\">\n",
       "      <th></th>\n",
       "      <th>YearsExperience</th>\n",
       "      <th>Salary</th>\n",
       "    </tr>\n",
       "  </thead>\n",
       "  <tbody>\n",
       "    <tr>\n",
       "      <th>0</th>\n",
       "      <td>1.1</td>\n",
       "      <td>39343.0</td>\n",
       "    </tr>\n",
       "    <tr>\n",
       "      <th>1</th>\n",
       "      <td>1.3</td>\n",
       "      <td>46205.0</td>\n",
       "    </tr>\n",
       "    <tr>\n",
       "      <th>2</th>\n",
       "      <td>1.5</td>\n",
       "      <td>37731.0</td>\n",
       "    </tr>\n",
       "    <tr>\n",
       "      <th>3</th>\n",
       "      <td>2.0</td>\n",
       "      <td>43525.0</td>\n",
       "    </tr>\n",
       "    <tr>\n",
       "      <th>4</th>\n",
       "      <td>2.2</td>\n",
       "      <td>39891.0</td>\n",
       "    </tr>\n",
       "  </tbody>\n",
       "</table>\n",
       "</div>"
      ],
      "text/plain": [
       "   YearsExperience   Salary\n",
       "0              1.1  39343.0\n",
       "1              1.3  46205.0\n",
       "2              1.5  37731.0\n",
       "3              2.0  43525.0\n",
       "4              2.2  39891.0"
      ]
     },
     "execution_count": 2,
     "metadata": {},
     "output_type": "execute_result"
    }
   ],
   "source": [
    "df.head()"
   ]
  },
  {
   "cell_type": "code",
   "execution_count": 3,
   "id": "4c9257f8",
   "metadata": {},
   "outputs": [
    {
     "data": {
      "text/plain": [
       "YearsExperience    0\n",
       "Salary             0\n",
       "dtype: int64"
      ]
     },
     "execution_count": 3,
     "metadata": {},
     "output_type": "execute_result"
    }
   ],
   "source": [
    "#checking for null values\n",
    "df.isnull().sum()"
   ]
  },
  {
   "cell_type": "code",
   "execution_count": 4,
   "id": "ef456609",
   "metadata": {},
   "outputs": [
    {
     "data": {
      "text/plain": [
       "(30, 2)"
      ]
     },
     "execution_count": 4,
     "metadata": {},
     "output_type": "execute_result"
    }
   ],
   "source": [
    "#checking for no of Rows and Columns\n",
    "df.shape"
   ]
  },
  {
   "cell_type": "code",
   "execution_count": 5,
   "id": "f0907048",
   "metadata": {},
   "outputs": [
    {
     "data": {
      "text/html": [
       "<div>\n",
       "<style scoped>\n",
       "    .dataframe tbody tr th:only-of-type {\n",
       "        vertical-align: middle;\n",
       "    }\n",
       "\n",
       "    .dataframe tbody tr th {\n",
       "        vertical-align: top;\n",
       "    }\n",
       "\n",
       "    .dataframe thead th {\n",
       "        text-align: right;\n",
       "    }\n",
       "</style>\n",
       "<table border=\"1\" class=\"dataframe\">\n",
       "  <thead>\n",
       "    <tr style=\"text-align: right;\">\n",
       "      <th></th>\n",
       "      <th>YearsExperience</th>\n",
       "    </tr>\n",
       "  </thead>\n",
       "  <tbody>\n",
       "    <tr>\n",
       "      <th>0</th>\n",
       "      <td>1.1</td>\n",
       "    </tr>\n",
       "    <tr>\n",
       "      <th>1</th>\n",
       "      <td>1.3</td>\n",
       "    </tr>\n",
       "    <tr>\n",
       "      <th>2</th>\n",
       "      <td>1.5</td>\n",
       "    </tr>\n",
       "    <tr>\n",
       "      <th>3</th>\n",
       "      <td>2.0</td>\n",
       "    </tr>\n",
       "    <tr>\n",
       "      <th>4</th>\n",
       "      <td>2.2</td>\n",
       "    </tr>\n",
       "  </tbody>\n",
       "</table>\n",
       "</div>"
      ],
      "text/plain": [
       "   YearsExperience\n",
       "0              1.1\n",
       "1              1.3\n",
       "2              1.5\n",
       "3              2.0\n",
       "4              2.2"
      ]
     },
     "execution_count": 5,
     "metadata": {},
     "output_type": "execute_result"
    }
   ],
   "source": [
    "#choosing X and Y variables\n",
    "#y varaible is for predicting target variable\n",
    "y=df[\"Salary\"]\n",
    "x=df[[\"YearsExperience\"]]\n",
    "x.head()"
   ]
  },
  {
   "cell_type": "code",
   "execution_count": 6,
   "id": "0f5f3993",
   "metadata": {},
   "outputs": [],
   "source": [
    "#fitting the model\n",
    "from sklearn.linear_model import LinearRegression\n",
    "LR = LinearRegression()"
   ]
  },
  {
   "cell_type": "code",
   "execution_count": 7,
   "id": "e5cc0112",
   "metadata": {},
   "outputs": [
    {
     "name": "stdout",
     "output_type": "stream",
     "text": [
      "intercept value 25792.20019866871\n",
      "coefficient value [9449.96232146]\n"
     ]
    }
   ],
   "source": [
    "#model fitting\n",
    "LR.fit(x,y)\n",
    "#calculatin bias Bo\n",
    "print(\"intercept value\",LR.intercept_)\n",
    "#calculatin coef B1\n",
    "print(\"coefficient value\",LR.coef_)"
   ]
  },
  {
   "cell_type": "code",
   "execution_count": 8,
   "id": "06ee73b1",
   "metadata": {},
   "outputs": [
    {
     "name": "stdout",
     "output_type": "stream",
     "text": [
      "Salary for experience = 2years :  [44692.12484158]\n"
     ]
    },
    {
     "name": "stderr",
     "output_type": "stream",
     "text": [
      "C:\\Users\\mahendhar Baira\\anaconda3\\Lib\\site-packages\\sklearn\\base.py:464: UserWarning: X does not have valid feature names, but LinearRegression was fitted with feature names\n",
      "  warnings.warn(\n"
     ]
    }
   ],
   "source": [
    "#predicting Salary  for experience = 2years\n",
    "y_pred = LR.predict(np.array([[2]]))\n",
    "print(\"Salary for experience = 2years : \",y_pred)"
   ]
  },
  {
   "cell_type": "code",
   "execution_count": 9,
   "id": "ddcb348a",
   "metadata": {},
   "outputs": [],
   "source": [
    "# we have Salary of 43525 for experience = 2years in our original dataset.\n",
    "#But we got 44692 as a Salary from our model\n",
    "#Lets calculate the error and R2 for our model"
   ]
  },
  {
   "cell_type": "code",
   "execution_count": 10,
   "id": "36f5d4b8",
   "metadata": {},
   "outputs": [
    {
     "name": "stdout",
     "output_type": "stream",
     "text": [
      " MSE of Model  31270951.722\n",
      " RMSE of Model  5592.044\n",
      "R2 score of our Model 0.957\n"
     ]
    }
   ],
   "source": [
    "#Calculation of MSE and RMSE and R2\n",
    "from sklearn.metrics import mean_squared_error,r2_score\n",
    "\n",
    "y_pred = LR.predict(x)\n",
    "mse_y = mean_squared_error(y,y_pred)\n",
    "rmse_y = np.sqrt(mse_y)\n",
    "r2_y =r2_score(y,y_pred)\n",
    "print(\" MSE of Model \",mse_y.round(3))\n",
    "print(\" RMSE of Model \",rmse_y.round(3))\n",
    "print(\"R2 score of our Model\",r2_y.round(3))"
   ]
  },
  {
   "cell_type": "code",
   "execution_count": 11,
   "id": "48bbba2d",
   "metadata": {},
   "outputs": [
    {
     "name": "stdout",
     "output_type": "stream",
     "text": [
      "Cross validation - RMSE trainig score  5612.545\n",
      "Cross validation RMSE test score 5678.829\n",
      "Cross validation - R2 trainig score  0.947\n",
      "Cross validation R2 test score 0.963\n"
     ]
    }
   ],
   "source": [
    "#Data partition - cross validation method\n",
    "#validation set approach\n",
    "#model fitting\n",
    "#random state = we wre not shuffling the data\n",
    "from sklearn.model_selection import train_test_split\n",
    "from sklearn.metrics import mean_squared_error,r2_score\n",
    "from sklearn.linear_model import LinearRegression\n",
    "LR = LinearRegression()\n",
    "\n",
    "training_accuracy = []\n",
    "test_accuracy = []\n",
    "for i in range(1,101):\n",
    "    x_train,x_test,y_train,y_test = train_test_split(x,y,test_size=0.25,random_state=i)\n",
    "    LR.fit(x_train,y_train)\n",
    "    y_pred_train = LR.predict(x_train)\n",
    "    y_pred_test = LR.predict(x_test)\n",
    "    mse_y_train = mean_squared_error(y_train,y_pred_train)\n",
    "    mse_y_test = mean_squared_error(y_test,y_pred_test)\n",
    "    r2_train=r2_score(y_train,y_pred_train)\n",
    "    r2_test=r2_score(y_test,y_pred_test)\n",
    "    training_accuracy.append(np.sqrt(mse_y_train))\n",
    "    test_accuracy.append(np.sqrt(mse_y_test))\n",
    "print(\"Cross validation - RMSE trainig score \",np.mean(training_accuracy).round(3))\n",
    "print(\"Cross validation RMSE test score\",np.mean(test_accuracy).round(3))\n",
    "print(\"Cross validation - R2 trainig score \",np.mean(r2_train).round(3))\n",
    "print(\"Cross validation R2 test score\",np.mean(r2_test).round(3))"
   ]
  },
  {
   "cell_type": "code",
   "execution_count": 12,
   "id": "2d0dc976",
   "metadata": {},
   "outputs": [
    {
     "data": {
      "text/html": [
       "<div>\n",
       "<style scoped>\n",
       "    .dataframe tbody tr th:only-of-type {\n",
       "        vertical-align: middle;\n",
       "    }\n",
       "\n",
       "    .dataframe tbody tr th {\n",
       "        vertical-align: top;\n",
       "    }\n",
       "\n",
       "    .dataframe thead th {\n",
       "        text-align: right;\n",
       "    }\n",
       "</style>\n",
       "<table border=\"1\" class=\"dataframe\">\n",
       "  <thead>\n",
       "    <tr style=\"text-align: right;\">\n",
       "      <th></th>\n",
       "      <th>YearsExperience</th>\n",
       "    </tr>\n",
       "  </thead>\n",
       "  <tbody>\n",
       "    <tr>\n",
       "      <th>0</th>\n",
       "      <td>-1.510053</td>\n",
       "    </tr>\n",
       "    <tr>\n",
       "      <th>1</th>\n",
       "      <td>-1.438373</td>\n",
       "    </tr>\n",
       "    <tr>\n",
       "      <th>2</th>\n",
       "      <td>-1.366693</td>\n",
       "    </tr>\n",
       "    <tr>\n",
       "      <th>3</th>\n",
       "      <td>-1.187494</td>\n",
       "    </tr>\n",
       "    <tr>\n",
       "      <th>4</th>\n",
       "      <td>-1.115814</td>\n",
       "    </tr>\n",
       "  </tbody>\n",
       "</table>\n",
       "</div>"
      ],
      "text/plain": [
       "   YearsExperience\n",
       "0        -1.510053\n",
       "1        -1.438373\n",
       "2        -1.366693\n",
       "3        -1.187494\n",
       "4        -1.115814"
      ]
     },
     "execution_count": 12,
     "metadata": {},
     "output_type": "execute_result"
    }
   ],
   "source": [
    "#------------------------------------case-2--------------------------------------------------------------\n",
    "#standardization will fit the values b/w -3 to +3\n",
    "from sklearn.preprocessing import StandardScaler\n",
    "SS=StandardScaler()\n",
    "SS_x = SS.fit_transform(x)\n",
    "SS_x = pd.DataFrame(SS_x)\n",
    "#giving columns names to the converted data\n",
    "SS_x.columns = list(x)\n",
    "SS_x.head()"
   ]
  },
  {
   "cell_type": "code",
   "execution_count": 13,
   "id": "f2d6c5e4",
   "metadata": {},
   "outputs": [
    {
     "name": "stdout",
     "output_type": "stream",
     "text": [
      "Cross validation - RMSE trainig score  5612.545\n",
      "Cross validation RMSE test score 5678.829\n",
      "Cross validation - R2 trainig score  0.947\n",
      "Cross validation R2 test score 0.963\n"
     ]
    }
   ],
   "source": [
    "#Data partition - cross validation method\n",
    "#validation set approach\n",
    "#model fitting\n",
    "#random state = we wre not shuffling the data\n",
    "from sklearn.model_selection import train_test_split\n",
    "from sklearn.metrics import mean_squared_error,r2_score\n",
    "from sklearn.linear_model import LinearRegression\n",
    "LR = LinearRegression()\n",
    "\n",
    "training_accuracy = []\n",
    "test_accuracy = []\n",
    "for i in range(1,101):\n",
    "    x_train,x_test,y_train,y_test = train_test_split(SS_x,y,test_size=0.25,random_state=i)\n",
    "    LR.fit(x_train,y_train)\n",
    "    y_pred_train = LR.predict(x_train)\n",
    "    y_pred_test = LR.predict(x_test)\n",
    "    mse_y_train = mean_squared_error(y_train,y_pred_train)\n",
    "    mse_y_test = mean_squared_error(y_test,y_pred_test)\n",
    "    r2_train=r2_score(y_train,y_pred_train)\n",
    "    r2_test=r2_score(y_test,y_pred_test)\n",
    "    training_accuracy.append(np.sqrt(mse_y_train))\n",
    "    test_accuracy.append(np.sqrt(mse_y_test))\n",
    "print(\"Cross validation - RMSE trainig score \",np.mean(training_accuracy).round(3))\n",
    "print(\"Cross validation RMSE test score\",np.mean(test_accuracy).round(3))\n",
    "print(\"Cross validation - R2 trainig score \",np.mean(r2_train).round(3))\n",
    "print(\"Cross validation R2 test score\",np.mean(r2_test).round(3))"
   ]
  },
  {
   "cell_type": "code",
   "execution_count": null,
   "id": "300d41ad",
   "metadata": {},
   "outputs": [],
   "source": [
    "#even though we did the logistic transformation....,\n",
    "#My RMSE and R2 not changed"
   ]
  }
 ],
 "metadata": {
  "kernelspec": {
   "display_name": "Python 3 (ipykernel)",
   "language": "python",
   "name": "python3"
  },
  "language_info": {
   "codemirror_mode": {
    "name": "ipython",
    "version": 3
   },
   "file_extension": ".py",
   "mimetype": "text/x-python",
   "name": "python",
   "nbconvert_exporter": "python",
   "pygments_lexer": "ipython3",
   "version": "3.11.5"
  }
 },
 "nbformat": 4,
 "nbformat_minor": 5
}
