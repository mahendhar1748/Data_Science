{
 "cells": [
  {
   "cell_type": "code",
   "execution_count": 1,
   "id": "fc6a61cb",
   "metadata": {},
   "outputs": [
    {
     "name": "stderr",
     "output_type": "stream",
     "text": [
      "C:\\Users\\mahendhar Baira\\anaconda3\\Lib\\site-packages\\pandas\\core\\arrays\\masked.py:60: UserWarning: Pandas requires version '1.3.6' or newer of 'bottleneck' (version '1.3.5' currently installed).\n",
      "  from pandas.core import (\n"
     ]
    }
   ],
   "source": [
    "import numpy as np\n",
    "import pandas as pd\n",
    "df=pd.read_csv(\"delivery_time.csv\")"
   ]
  },
  {
   "cell_type": "code",
   "execution_count": 2,
   "id": "4013d182",
   "metadata": {},
   "outputs": [
    {
     "data": {
      "text/html": [
       "<div>\n",
       "<style scoped>\n",
       "    .dataframe tbody tr th:only-of-type {\n",
       "        vertical-align: middle;\n",
       "    }\n",
       "\n",
       "    .dataframe tbody tr th {\n",
       "        vertical-align: top;\n",
       "    }\n",
       "\n",
       "    .dataframe thead th {\n",
       "        text-align: right;\n",
       "    }\n",
       "</style>\n",
       "<table border=\"1\" class=\"dataframe\">\n",
       "  <thead>\n",
       "    <tr style=\"text-align: right;\">\n",
       "      <th></th>\n",
       "      <th>Delivery Time</th>\n",
       "      <th>Sorting Time</th>\n",
       "    </tr>\n",
       "  </thead>\n",
       "  <tbody>\n",
       "    <tr>\n",
       "      <th>0</th>\n",
       "      <td>21.00</td>\n",
       "      <td>10</td>\n",
       "    </tr>\n",
       "    <tr>\n",
       "      <th>1</th>\n",
       "      <td>13.50</td>\n",
       "      <td>4</td>\n",
       "    </tr>\n",
       "    <tr>\n",
       "      <th>2</th>\n",
       "      <td>19.75</td>\n",
       "      <td>6</td>\n",
       "    </tr>\n",
       "    <tr>\n",
       "      <th>3</th>\n",
       "      <td>24.00</td>\n",
       "      <td>9</td>\n",
       "    </tr>\n",
       "    <tr>\n",
       "      <th>4</th>\n",
       "      <td>29.00</td>\n",
       "      <td>10</td>\n",
       "    </tr>\n",
       "  </tbody>\n",
       "</table>\n",
       "</div>"
      ],
      "text/plain": [
       "   Delivery Time  Sorting Time\n",
       "0          21.00            10\n",
       "1          13.50             4\n",
       "2          19.75             6\n",
       "3          24.00             9\n",
       "4          29.00            10"
      ]
     },
     "execution_count": 2,
     "metadata": {},
     "output_type": "execute_result"
    }
   ],
   "source": [
    "df.head()"
   ]
  },
  {
   "cell_type": "code",
   "execution_count": 3,
   "id": "44663b6a",
   "metadata": {},
   "outputs": [
    {
     "data": {
      "text/plain": [
       "Delivery Time    0\n",
       "Sorting Time     0\n",
       "dtype: int64"
      ]
     },
     "execution_count": 3,
     "metadata": {},
     "output_type": "execute_result"
    }
   ],
   "source": [
    "#checking for null values\n",
    "df.isnull().sum()"
   ]
  },
  {
   "cell_type": "code",
   "execution_count": 4,
   "id": "02e9482a",
   "metadata": {},
   "outputs": [
    {
     "data": {
      "text/plain": [
       "(21, 2)"
      ]
     },
     "execution_count": 4,
     "metadata": {},
     "output_type": "execute_result"
    }
   ],
   "source": [
    "#checking for no of Rows and Columns\n",
    "df.shape"
   ]
  },
  {
   "cell_type": "code",
   "execution_count": 5,
   "id": "4d5a9cfb",
   "metadata": {},
   "outputs": [
    {
     "data": {
      "text/html": [
       "<div>\n",
       "<style scoped>\n",
       "    .dataframe tbody tr th:only-of-type {\n",
       "        vertical-align: middle;\n",
       "    }\n",
       "\n",
       "    .dataframe tbody tr th {\n",
       "        vertical-align: top;\n",
       "    }\n",
       "\n",
       "    .dataframe thead th {\n",
       "        text-align: right;\n",
       "    }\n",
       "</style>\n",
       "<table border=\"1\" class=\"dataframe\">\n",
       "  <thead>\n",
       "    <tr style=\"text-align: right;\">\n",
       "      <th></th>\n",
       "      <th>Sorting Time</th>\n",
       "    </tr>\n",
       "  </thead>\n",
       "  <tbody>\n",
       "    <tr>\n",
       "      <th>0</th>\n",
       "      <td>10</td>\n",
       "    </tr>\n",
       "    <tr>\n",
       "      <th>1</th>\n",
       "      <td>4</td>\n",
       "    </tr>\n",
       "    <tr>\n",
       "      <th>2</th>\n",
       "      <td>6</td>\n",
       "    </tr>\n",
       "    <tr>\n",
       "      <th>3</th>\n",
       "      <td>9</td>\n",
       "    </tr>\n",
       "    <tr>\n",
       "      <th>4</th>\n",
       "      <td>10</td>\n",
       "    </tr>\n",
       "  </tbody>\n",
       "</table>\n",
       "</div>"
      ],
      "text/plain": [
       "   Sorting Time\n",
       "0            10\n",
       "1             4\n",
       "2             6\n",
       "3             9\n",
       "4            10"
      ]
     },
     "execution_count": 5,
     "metadata": {},
     "output_type": "execute_result"
    }
   ],
   "source": [
    "#choosing X and Y variables\n",
    "#y varaible is for predicting target variable\n",
    "y=df[\"Delivery Time\"]\n",
    "x=df[[\"Sorting Time\"]]\n",
    "x.head()"
   ]
  },
  {
   "cell_type": "code",
   "execution_count": 6,
   "id": "d53700c8",
   "metadata": {},
   "outputs": [],
   "source": [
    "#fitting the model\n",
    "from sklearn.linear_model import LinearRegression\n",
    "LR = LinearRegression()"
   ]
  },
  {
   "cell_type": "code",
   "execution_count": 7,
   "id": "bf8d9650",
   "metadata": {},
   "outputs": [
    {
     "name": "stdout",
     "output_type": "stream",
     "text": [
      "intercept value 6.58273397199706\n",
      "coefficient value [1.6490199]\n"
     ]
    }
   ],
   "source": [
    "#model fitting\n",
    "LR.fit(x,y)\n",
    "#calculatin bias Bo\n",
    "print(\"intercept value\",LR.intercept_)\n",
    "#calculatin coef B1\n",
    "print(\"coefficient value\",LR.coef_)"
   ]
  },
  {
   "cell_type": "code",
   "execution_count": 8,
   "id": "3d02bbce",
   "metadata": {},
   "outputs": [
    {
     "name": "stdout",
     "output_type": "stream",
     "text": [
      "delivery time  for sorting_time = 10 :  [23.07293294]\n"
     ]
    },
    {
     "name": "stderr",
     "output_type": "stream",
     "text": [
      "C:\\Users\\mahendhar Baira\\anaconda3\\Lib\\site-packages\\sklearn\\base.py:464: UserWarning: X does not have valid feature names, but LinearRegression was fitted with feature names\n",
      "  warnings.warn(\n"
     ]
    }
   ],
   "source": [
    "#predicting delivery time  for sorting_time = 10\n",
    "y_pred = LR.predict(np.array([[10]]))\n",
    "print(\"delivery time  for sorting_time = 10 : \",y_pred)"
   ]
  },
  {
   "cell_type": "code",
   "execution_count": 9,
   "id": "548eef36",
   "metadata": {},
   "outputs": [],
   "source": [
    "# we have delivery_time of 21 for sorting_time = 10 in our original dataset.\n",
    "#But we got 23 as a delivery_time from our model\n",
    "#Lets calculate the error and R2 for our model"
   ]
  },
  {
   "cell_type": "code",
   "execution_count": 10,
   "id": "34f98164",
   "metadata": {},
   "outputs": [
    {
     "name": "stdout",
     "output_type": "stream",
     "text": [
      " MSE of Model  7.793\n",
      " RMSE of Model  2.792\n",
      "R2 score of our Model 0.682\n"
     ]
    }
   ],
   "source": [
    "#Calculation of MSE and RMSE and R2\n",
    "from sklearn.metrics import mean_squared_error,r2_score\n",
    "\n",
    "y_pred = LR.predict(x)\n",
    "mse_y = mean_squared_error(y,y_pred)\n",
    "rmse_y = np.sqrt(mse_y)\n",
    "r2_y =r2_score(y,y_pred)\n",
    "print(\" MSE of Model \",mse_y.round(3))\n",
    "print(\" RMSE of Model \",rmse_y.round(3))\n",
    "print(\"R2 score of our Model\",r2_y.round(3))"
   ]
  },
  {
   "cell_type": "code",
   "execution_count": 11,
   "id": "b5b47558",
   "metadata": {},
   "outputs": [
    {
     "name": "stdout",
     "output_type": "stream",
     "text": [
      "Cross validation - RMSE trainig score  2.711\n",
      "Cross validation RMSE test score 3.051\n",
      "Cross validation - R2 trainig score  0.678\n",
      "Cross validation R2 test score 0.612\n"
     ]
    }
   ],
   "source": [
    "#Data partition - cross validation method\n",
    "#validation set approach\n",
    "#model fitting\n",
    "#random state = we wre not shuffling the data\n",
    "from sklearn.model_selection import train_test_split\n",
    "from sklearn.metrics import mean_squared_error,r2_score\n",
    "from sklearn.linear_model import LinearRegression\n",
    "LR = LinearRegression()\n",
    "\n",
    "training_accuracy = []\n",
    "test_accuracy = []\n",
    "for i in range(1,101):\n",
    "    x_train,x_test,y_train,y_test = train_test_split(x,y,test_size=0.25,random_state=i)\n",
    "    LR.fit(x_train,y_train)\n",
    "    y_pred_train = LR.predict(x_train)\n",
    "    y_pred_test = LR.predict(x_test)\n",
    "    mse_y_train = mean_squared_error(y_train,y_pred_train)\n",
    "    mse_y_test = mean_squared_error(y_test,y_pred_test)\n",
    "    r2_train=r2_score(y_train,y_pred_train)\n",
    "    r2_test=r2_score(y_test,y_pred_test)\n",
    "    training_accuracy.append(np.sqrt(mse_y_train))\n",
    "    test_accuracy.append(np.sqrt(mse_y_test))\n",
    "print(\"Cross validation - RMSE trainig score \",np.mean(training_accuracy).round(3))\n",
    "print(\"Cross validation RMSE test score\",np.mean(test_accuracy).round(3))\n",
    "print(\"Cross validation - R2 trainig score \",np.mean(r2_train).round(3))\n",
    "print(\"Cross validation R2 test score\",np.mean(r2_test).round(3))"
   ]
  },
  {
   "cell_type": "code",
   "execution_count": 12,
   "id": "e55410c3",
   "metadata": {},
   "outputs": [
    {
     "data": {
      "text/html": [
       "<div>\n",
       "<style scoped>\n",
       "    .dataframe tbody tr th:only-of-type {\n",
       "        vertical-align: middle;\n",
       "    }\n",
       "\n",
       "    .dataframe tbody tr th {\n",
       "        vertical-align: top;\n",
       "    }\n",
       "\n",
       "    .dataframe thead th {\n",
       "        text-align: right;\n",
       "    }\n",
       "</style>\n",
       "<table border=\"1\" class=\"dataframe\">\n",
       "  <thead>\n",
       "    <tr style=\"text-align: right;\">\n",
       "      <th></th>\n",
       "      <th>Sorting Time</th>\n",
       "    </tr>\n",
       "  </thead>\n",
       "  <tbody>\n",
       "    <tr>\n",
       "      <th>0</th>\n",
       "      <td>1.535625</td>\n",
       "    </tr>\n",
       "    <tr>\n",
       "      <th>1</th>\n",
       "      <td>-0.882984</td>\n",
       "    </tr>\n",
       "    <tr>\n",
       "      <th>2</th>\n",
       "      <td>-0.076781</td>\n",
       "    </tr>\n",
       "    <tr>\n",
       "      <th>3</th>\n",
       "      <td>1.132523</td>\n",
       "    </tr>\n",
       "    <tr>\n",
       "      <th>4</th>\n",
       "      <td>1.535625</td>\n",
       "    </tr>\n",
       "  </tbody>\n",
       "</table>\n",
       "</div>"
      ],
      "text/plain": [
       "   Sorting Time\n",
       "0      1.535625\n",
       "1     -0.882984\n",
       "2     -0.076781\n",
       "3      1.132523\n",
       "4      1.535625"
      ]
     },
     "execution_count": 12,
     "metadata": {},
     "output_type": "execute_result"
    }
   ],
   "source": [
    "#------------------------------------case-2--------------------------------------------------------------\n",
    "#standardization will fit the values b/w -3 to +3\n",
    "from sklearn.preprocessing import StandardScaler\n",
    "SS=StandardScaler()\n",
    "SS_x = SS.fit_transform(x)\n",
    "SS_x = pd.DataFrame(SS_x)\n",
    "#giving columns names to the converted data\n",
    "SS_x.columns = list(x)\n",
    "SS_x.head()"
   ]
  },
  {
   "cell_type": "code",
   "execution_count": 13,
   "id": "8f7aa151",
   "metadata": {},
   "outputs": [
    {
     "name": "stdout",
     "output_type": "stream",
     "text": [
      "Cross validation - RMSE trainig score  2.711\n",
      "Cross validation RMSE test score 3.051\n",
      "Cross validation - R2 trainig score  0.678\n",
      "Cross validation R2 test score 0.612\n"
     ]
    }
   ],
   "source": [
    "#Data partition - cross validation method\n",
    "#validation set approach\n",
    "#model fitting\n",
    "#random state = we wre not shuffling the data\n",
    "from sklearn.model_selection import train_test_split\n",
    "from sklearn.metrics import mean_squared_error,r2_score\n",
    "from sklearn.linear_model import LinearRegression\n",
    "LR = LinearRegression()\n",
    "\n",
    "training_accuracy = []\n",
    "test_accuracy = []\n",
    "for i in range(1,101):\n",
    "    x_train,x_test,y_train,y_test = train_test_split(SS_x,y,test_size=0.25,random_state=i)\n",
    "    LR.fit(x_train,y_train)\n",
    "    y_pred_train = LR.predict(x_train)\n",
    "    y_pred_test = LR.predict(x_test)\n",
    "    mse_y_train = mean_squared_error(y_train,y_pred_train)\n",
    "    mse_y_test = mean_squared_error(y_test,y_pred_test)\n",
    "    r2_train=r2_score(y_train,y_pred_train)\n",
    "    r2_test=r2_score(y_test,y_pred_test)\n",
    "    training_accuracy.append(np.sqrt(mse_y_train))\n",
    "    test_accuracy.append(np.sqrt(mse_y_test))\n",
    "print(\"Cross validation - RMSE trainig score \",np.mean(training_accuracy).round(3))\n",
    "print(\"Cross validation RMSE test score\",np.mean(test_accuracy).round(3))\n",
    "print(\"Cross validation - R2 trainig score \",np.mean(r2_train).round(3))\n",
    "print(\"Cross validation R2 test score\",np.mean(r2_test).round(3))"
   ]
  },
  {
   "cell_type": "code",
   "execution_count": null,
   "id": "51260393",
   "metadata": {},
   "outputs": [],
   "source": [
    "#even though we did the logistic transformation....,\n",
    "#My RMSE and R2 not changed"
   ]
  }
 ],
 "metadata": {
  "kernelspec": {
   "display_name": "Python 3 (ipykernel)",
   "language": "python",
   "name": "python3"
  },
  "language_info": {
   "codemirror_mode": {
    "name": "ipython",
    "version": 3
   },
   "file_extension": ".py",
   "mimetype": "text/x-python",
   "name": "python",
   "nbconvert_exporter": "python",
   "pygments_lexer": "ipython3",
   "version": "3.11.5"
  }
 },
 "nbformat": 4,
 "nbformat_minor": 5
}
